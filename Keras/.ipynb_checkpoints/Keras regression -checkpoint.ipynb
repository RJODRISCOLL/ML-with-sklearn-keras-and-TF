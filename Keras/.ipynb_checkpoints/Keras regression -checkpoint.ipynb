{
 "cells": [
  {
   "cell_type": "markdown",
   "metadata": {},
   "source": [
    "## Setup notebook\n",
    "\n",
    "In this notebook i build a simple a neural network to predict housing prices. "
   ]
  },
  {
   "cell_type": "code",
   "execution_count": 1,
   "metadata": {},
   "outputs": [
    {
     "name": "stderr",
     "output_type": "stream",
     "text": [
      "Downloading Cal. housing from https://ndownloader.figshare.com/files/5976036 to C:\\Users\\ruair\\scikit_learn_data\n"
     ]
    }
   ],
   "source": [
    "import numpy as np\n",
    "import os\n",
    "import matplotlib as mpl\n",
    "import matplotlib.pyplot as plt\n",
    "import pandas as pd\n",
    "import tensorflow as tf\n",
    "from tensorflow import keras \n",
    "\n",
    "%matplotlib inline\n",
    "\n",
    "# dataset imort \n",
    "from sklearn.datasets import fetch_california_housing\n",
    "from sklearn.model_selection import train_test_split\n",
    "from sklearn.preprocessing import StandardScaler\n",
    "\n",
    "\n",
    "housing = fetch_california_housing()\n",
    "X_train_full, X_test, y_train_full, y_test = train_test_split(housing.data, housing.target)\n",
    "X_train, X_valid, y_train, y_valid = train_test_split(X_train_full, y_train_full)"
   ]
  },
  {
   "cell_type": "markdown",
   "metadata": {},
   "source": [
    "Next we scale the data "
   ]
  },
  {
   "cell_type": "code",
   "execution_count": 2,
   "metadata": {},
   "outputs": [],
   "source": [
    "scaler = StandardScaler() # scaler \n",
    "X_train = scaler.fit_transform(X_train) \n",
    "X_valid = scaler.transform(X_valid) # validation set \n",
    "X_test = scaler.transform(X_test)"
   ]
  },
  {
   "cell_type": "code",
   "execution_count": 3,
   "metadata": {},
   "outputs": [],
   "source": [
    "# We build a seuqential NN with a single output neuron! We know that the dataset is pretty noisy so we \n",
    "# we need to avoid overfitting so we dont build a very deep network \n",
    "model = keras.models.Sequential([\n",
    "    keras.layers.Dense(30, activation=\"relu\", input_shape=X_train.shape[1:]),\n",
    "    keras.layers.Dense(1)\n",
    "])"
   ]
  },
  {
   "cell_type": "code",
   "execution_count": 4,
   "metadata": {},
   "outputs": [
    {
     "name": "stdout",
     "output_type": "stream",
     "text": [
      "Train on 11610 samples, validate on 3870 samples\n",
      "Epoch 1/20\n",
      "11610/11610 [==============================] - 2s 141us/sample - loss: 4.0900 - val_loss: 3.4560\n",
      "Epoch 2/20\n",
      "11610/11610 [==============================] - 1s 61us/sample - loss: 3.0450 - val_loss: 2.5711\n",
      "Epoch 3/20\n",
      "11610/11610 [==============================] - 1s 62us/sample - loss: 2.3642 - val_loss: 2.0048\n",
      "Epoch 4/20\n",
      "11610/11610 [==============================] - 1s 62us/sample - loss: 1.9094 - val_loss: 1.6338\n",
      "Epoch 5/20\n",
      "11610/11610 [==============================] - 1s 63us/sample - loss: 1.5979 - val_loss: 1.3843\n",
      "Epoch 6/20\n",
      "11610/11610 [==============================] - 1s 62us/sample - loss: 1.3792 - val_loss: 1.2120\n",
      "Epoch 7/20\n",
      "11610/11610 [==============================] - 1s 62us/sample - loss: 1.2217 - val_loss: 1.0893\n",
      "Epoch 8/20\n",
      "11610/11610 [==============================] - 1s 62us/sample - loss: 1.1061 - val_loss: 0.9995\n",
      "Epoch 9/20\n",
      "11610/11610 [==============================] - 1s 62us/sample - loss: 1.0199 - val_loss: 0.9324\n",
      "Epoch 10/20\n",
      "11610/11610 [==============================] - 1s 62us/sample - loss: 0.9544 - val_loss: 0.8818\n",
      "Epoch 11/20\n",
      "11610/11610 [==============================] - 1s 63us/sample - loss: 0.9041 - val_loss: 0.8430\n",
      "Epoch 12/20\n",
      "11610/11610 [==============================] - 1s 62us/sample - loss: 0.8655 - val_loss: 0.8129\n",
      "Epoch 13/20\n",
      "11610/11610 [==============================] - 1s 62us/sample - loss: 0.8353 - val_loss: 0.7895\n",
      "Epoch 14/20\n",
      "11610/11610 [==============================] - 1s 62us/sample - loss: 0.8114 - val_loss: 0.7709\n",
      "Epoch 15/20\n",
      "11610/11610 [==============================] - 1s 62us/sample - loss: 0.7922 - val_loss: 0.7561\n",
      "Epoch 16/20\n",
      "11610/11610 [==============================] - 1s 62us/sample - loss: 0.7766 - val_loss: 0.7440\n",
      "Epoch 17/20\n",
      "11610/11610 [==============================] - 1s 62us/sample - loss: 0.7638 - val_loss: 0.7342\n",
      "Epoch 18/20\n",
      "11610/11610 [==============================] - 1s 64us/sample - loss: 0.7532 - val_loss: 0.7259\n",
      "Epoch 19/20\n",
      "11610/11610 [==============================] - 1s 62us/sample - loss: 0.7442 - val_loss: 0.7188\n",
      "Epoch 20/20\n",
      "11610/11610 [==============================] - 1s 63us/sample - loss: 0.7364 - val_loss: 0.7127\n",
      "5160/5160 [==============================] - 0s 32us/sample - loss: 0.6987\n"
     ]
    }
   ],
   "source": [
    "model.compile(loss=\"mean_squared_error\", \n",
    "              optimizer=keras.optimizers.SGD(lr=0.0001)) # learning rate of g desc\n",
    "history = model.fit(X_train, y_train, epochs=20, validation_data=(X_valid, y_valid))\n",
    "mse_test = model.evaluate(X_test, y_test) # we evaluate the model \n",
    "X_new = X_test[:3] # look at 3 instances \n",
    "y_pred = model.predict(X_new) # make predictions on these "
   ]
  },
  {
   "cell_type": "code",
   "execution_count": 10,
   "metadata": {},
   "outputs": [
    {
     "data": {
      "image/png": "[encoded data removed]",
      "text/plain": [
       "<Figure size 432x288 with 1 Axes>"
      ]
     },
     "metadata": {
      "needs_background": "light"
     },
     "output_type": "display_data"
    }
   ],
   "source": [
    "# lets plot the loss over tiem\n",
    "plt.plot(pd.DataFrame(history.history))\n",
    "plt.grid(True)\n",
    "plt.xlabel('Epoch')\n",
    "plt.ylabel('Loss MSE')\n",
    "plt.show()"
   ]
  },
  {
   "cell_type": "code",
   "execution_count": 8,
   "metadata": {},
   "outputs": [
    {
     "data": {
      "text/html": [
       "<div>\n",
       "<style scoped>\n",
       "    .dataframe tbody tr th:only-of-type {\n",
       "        vertical-align: middle;\n",
       "    }\n",
       "\n",
       "    .dataframe tbody tr th {\n",
       "        vertical-align: top;\n",
       "    }\n",
       "\n",
       "    .dataframe thead th {\n",
       "        text-align: right;\n",
       "    }\n",
       "</style>\n",
       "<table border=\"1\" class=\"dataframe\">\n",
       "  <thead>\n",
       "    <tr style=\"text-align: right;\">\n",
       "      <th></th>\n",
       "      <th>loss</th>\n",
       "      <th>val_loss</th>\n",
       "    </tr>\n",
       "  </thead>\n",
       "  <tbody>\n",
       "    <tr>\n",
       "      <th>0</th>\n",
       "      <td>4.090036</td>\n",
       "      <td>3.456013</td>\n",
       "    </tr>\n",
       "    <tr>\n",
       "      <th>1</th>\n",
       "      <td>3.045026</td>\n",
       "      <td>2.571059</td>\n",
       "    </tr>\n",
       "    <tr>\n",
       "      <th>2</th>\n",
       "      <td>2.364225</td>\n",
       "      <td>2.004838</td>\n",
       "    </tr>\n",
       "    <tr>\n",
       "      <th>3</th>\n",
       "      <td>1.909414</td>\n",
       "      <td>1.633752</td>\n",
       "    </tr>\n",
       "    <tr>\n",
       "      <th>4</th>\n",
       "      <td>1.597857</td>\n",
       "      <td>1.384306</td>\n",
       "    </tr>\n",
       "    <tr>\n",
       "      <th>5</th>\n",
       "      <td>1.379172</td>\n",
       "      <td>1.211955</td>\n",
       "    </tr>\n",
       "    <tr>\n",
       "      <th>6</th>\n",
       "      <td>1.221748</td>\n",
       "      <td>1.089280</td>\n",
       "    </tr>\n",
       "    <tr>\n",
       "      <th>7</th>\n",
       "      <td>1.106104</td>\n",
       "      <td>0.999492</td>\n",
       "    </tr>\n",
       "    <tr>\n",
       "      <th>8</th>\n",
       "      <td>1.019867</td>\n",
       "      <td>0.932447</td>\n",
       "    </tr>\n",
       "    <tr>\n",
       "      <th>9</th>\n",
       "      <td>0.954365</td>\n",
       "      <td>0.881789</td>\n",
       "    </tr>\n",
       "    <tr>\n",
       "      <th>10</th>\n",
       "      <td>0.904122</td>\n",
       "      <td>0.842965</td>\n",
       "    </tr>\n",
       "    <tr>\n",
       "      <th>11</th>\n",
       "      <td>0.865471</td>\n",
       "      <td>0.812860</td>\n",
       "    </tr>\n",
       "    <tr>\n",
       "      <th>12</th>\n",
       "      <td>0.835274</td>\n",
       "      <td>0.789470</td>\n",
       "    </tr>\n",
       "    <tr>\n",
       "      <th>13</th>\n",
       "      <td>0.811363</td>\n",
       "      <td>0.770938</td>\n",
       "    </tr>\n",
       "    <tr>\n",
       "      <th>14</th>\n",
       "      <td>0.792187</td>\n",
       "      <td>0.756061</td>\n",
       "    </tr>\n",
       "    <tr>\n",
       "      <th>15</th>\n",
       "      <td>0.776627</td>\n",
       "      <td>0.744017</td>\n",
       "    </tr>\n",
       "    <tr>\n",
       "      <th>16</th>\n",
       "      <td>0.763828</td>\n",
       "      <td>0.734163</td>\n",
       "    </tr>\n",
       "    <tr>\n",
       "      <th>17</th>\n",
       "      <td>0.753209</td>\n",
       "      <td>0.725890</td>\n",
       "    </tr>\n",
       "    <tr>\n",
       "      <th>18</th>\n",
       "      <td>0.744219</td>\n",
       "      <td>0.718834</td>\n",
       "    </tr>\n",
       "    <tr>\n",
       "      <th>19</th>\n",
       "      <td>0.736423</td>\n",
       "      <td>0.712680</td>\n",
       "    </tr>\n",
       "  </tbody>\n",
       "</table>\n",
       "</div>"
      ],
      "text/plain": [
       "        loss  val_loss\n",
       "0   4.090036  3.456013\n",
       "1   3.045026  2.571059\n",
       "2   2.364225  2.004838\n",
       "3   1.909414  1.633752\n",
       "4   1.597857  1.384306\n",
       "5   1.379172  1.211955\n",
       "6   1.221748  1.089280\n",
       "7   1.106104  0.999492\n",
       "8   1.019867  0.932447\n",
       "9   0.954365  0.881789\n",
       "10  0.904122  0.842965\n",
       "11  0.865471  0.812860\n",
       "12  0.835274  0.789470\n",
       "13  0.811363  0.770938\n",
       "14  0.792187  0.756061\n",
       "15  0.776627  0.744017\n",
       "16  0.763828  0.734163\n",
       "17  0.753209  0.725890\n",
       "18  0.744219  0.718834\n",
       "19  0.736423  0.712680"
      ]
     },
     "execution_count": 8,
     "metadata": {},
     "output_type": "execute_result"
    }
   ],
   "source": [
    "pd.DataFrame(history.history)"
   ]
  },
  {
   "cell_type": "code",
   "execution_count": 11,
   "metadata": {},
   "outputs": [
    {
     "data": {
      "text/plain": [
       "array([[2.5161452],\n",
       "       [1.6750615],\n",
       "       [2.2877629]], dtype=float32)"
      ]
     },
     "execution_count": 11,
     "metadata": {},
     "output_type": "execute_result"
    }
   ],
   "source": [
    "y_pred"
   ]
  },
  {
   "cell_type": "markdown",
   "metadata": {},
   "source": [
    "## Functional API\n",
    "\n",
    "Here we implement a more complex topology. This innovative NN allows for the modelling of relatively simple patterns, as well as very deep, complex rules. In contrast, a regular MLP will require all data to pass through the 'deep' path, which can results in simple patterns becoming overly complex. "
   ]
  },
  {
   "cell_type": "code",
   "execution_count": 15,
   "metadata": {},
   "outputs": [],
   "source": [
    "# We first implement an input object - this defines shape of the layer \n",
    "input_ = keras.layers.Input(shape=X_train.shape[1:])\n",
    "hidden1 = keras.layers.Dense(30, activation ='relu')(input_) # input is passed to the first hidden layer\n",
    "hidden2 = keras.layers.Dense(30, activation ='relu')(hidden1) # hidden1 is passed to the second hidden layer\n",
    "concat = keras.layers.Concatenate()([input_, hidden2]) # input and hidden 2 are concatenated in this lyer \n",
    "output = keras.layers.Dense(1)(concat) # single layer output because this is an output \n",
    "#model = keras.Model(inputs = [input_], output = [output])"
   ]
  },
  {
   "cell_type": "markdown",
   "metadata": {},
   "source": [
    "We can train the model above but we need to make some tweaks if the algo is to take specific subsets of features to hsallow/deep componentns. If we want to or need to, we can send specific input to both "
   ]
  },
  {
   "cell_type": "code",
   "execution_count": 16,
   "metadata": {},
   "outputs": [],
   "source": [
    "# here input a is fed through a shoter part. \n",
    "input_A = keras.layers.Input(shape=[5], name=\"wide_input\")\n",
    "input_B = keras.layers.Input(shape=[6], name=\"deep_input\")\n",
    "hidden1 = keras.layers.Dense(30, activation=\"relu\")(input_B)\n",
    "hidden2 = keras.layers.Dense(30, activation=\"relu\")(hidden1)\n",
    "concat = keras.layers.concatenate([input_A, hidden2])\n",
    "output = keras.layers.Dense(1, name=\"output\")(concat)\n",
    "model = keras.models.Model(inputs=[input_A, input_B], outputs=[output])"
   ]
  },
  {
   "cell_type": "code",
   "execution_count": 19,
   "metadata": {},
   "outputs": [
    {
     "name": "stdout",
     "output_type": "stream",
     "text": [
      "Train on 11610 samples, validate on 3870 samples\n",
      "Epoch 1/20\n",
      "11610/11610 [==============================] - 1s 95us/sample - loss: 4.5780 - val_loss: 3.8817\n",
      "Epoch 2/20\n",
      "11610/11610 [==============================] - 1s 73us/sample - loss: 3.4099 - val_loss: 2.9111\n",
      "Epoch 3/20\n",
      "11610/11610 [==============================] - 1s 69us/sample - loss: 2.5439 - val_loss: 2.2168\n",
      "Epoch 4/20\n",
      "11610/11610 [==============================] - 1s 69us/sample - loss: 1.9367 - val_loss: 1.7562\n",
      "Epoch 5/20\n",
      "11610/11610 [==============================] - 1s 70us/sample - loss: 1.5321 - val_loss: 1.4634\n",
      "Epoch 6/20\n",
      "11610/11610 [==============================] - 1s 70us/sample - loss: 1.2737 - val_loss: 1.2779\n",
      "Epoch 7/20\n",
      "11610/11610 [==============================] - 1s 69us/sample - loss: 1.1117 - val_loss: 1.1596\n",
      "Epoch 8/20\n",
      "11610/11610 [==============================] - 1s 68us/sample - loss: 1.0099 - val_loss: 1.0796\n",
      "Epoch 9/20\n",
      "11610/11610 [==============================] - 1s 69us/sample - loss: 0.9440 - val_loss: 1.0218\n",
      "Epoch 10/20\n",
      "11610/11610 [==============================] - 1s 70us/sample - loss: 0.8996 - val_loss: 0.9776\n",
      "Epoch 11/20\n",
      "11610/11610 [==============================] - 1s 71us/sample - loss: 0.8677 - val_loss: 0.9423\n",
      "Epoch 12/20\n",
      "11610/11610 [==============================] - 1s 73us/sample - loss: 0.8437 - val_loss: 0.9124\n",
      "Epoch 13/20\n",
      "11610/11610 [==============================] - 1s 73us/sample - loss: 0.8248 - val_loss: 0.8869\n",
      "Epoch 14/20\n",
      "11610/11610 [==============================] - 1s 83us/sample - loss: 0.8091 - val_loss: 0.8642\n",
      "Epoch 15/20\n",
      "11610/11610 [==============================] - 1s 74us/sample - loss: 0.7958 - val_loss: 0.8439\n",
      "Epoch 16/20\n",
      "11610/11610 [==============================] - 1s 75us/sample - loss: 0.7843 - val_loss: 0.8262\n",
      "Epoch 17/20\n",
      "11610/11610 [==============================] - 1s 81us/sample - loss: 0.7741 - val_loss: 0.8108\n",
      "Epoch 18/20\n",
      "11610/11610 [==============================] - 1s 91us/sample - loss: 0.7652 - val_loss: 0.7970\n",
      "Epoch 19/20\n",
      "11610/11610 [==============================] - 1s 87us/sample - loss: 0.7571 - val_loss: 0.7848\n",
      "Epoch 20/20\n",
      "11610/11610 [==============================] - 1s 79us/sample - loss: 0.7498 - val_loss: 0.7739\n",
      "5160/5160 [==============================] - 0s 36us/sample - loss: 0.6929\n"
     ]
    }
   ],
   "source": [
    "model.compile(loss=\"mse\", optimizer=keras.optimizers.SGD(lr=0.0001))\n",
    "X_train_A, X_train_B = X_train[:, :5], X_train[:, 2:] # in this ecample we split the cols, note some overlap\n",
    "X_valid_A, X_valid_B = X_valid[:, :5], X_valid[:, 2:]\n",
    "X_test_A, X_test_B = X_test[:, :5], X_test[:, 2:]\n",
    "X_new_A, X_new_B = X_test_A[:3], X_test_B[:3]\n",
    "history = model.fit((X_train_A, X_train_B), y_train, epochs=20,\n",
    "                    validation_data=((X_valid_A, X_valid_B), y_valid))\n",
    "mse_test = model.evaluate((X_test_A, X_test_B), y_test)\n",
    "y_pred = model.predict((X_new_A, X_new_B))"
   ]
  },
  {
   "cell_type": "markdown",
   "metadata": {},
   "source": [
    "note below we must split the input matrices into train a and train , to account for the different inputs. WHy would we need this? \n",
    "\n",
    "- the task may require it. i.e. some tasks may require classification AND regression \n",
    "- If you genereally have more than one task per dataset. THis is often a superior approach to > network.\n",
    "- Regularisation techniques. If we add an auxillary component we may ensure that the network learn ssomething on its own with out relying oon the rest of the network. "
   ]
  },
  {
   "cell_type": "code",
   "execution_count": 20,
   "metadata": {},
   "outputs": [],
   "source": [
    "input_A = keras.layers.Input(shape=[5], name=\"wide_input\")\n",
    "input_B = keras.layers.Input(shape=[6], name=\"deep_input\")\n",
    "hidden1 = keras.layers.Dense(30, activation=\"relu\")(input_B)\n",
    "hidden2 = keras.layers.Dense(30, activation=\"relu\")(hidden1)\n",
    "concat = keras.layers.concatenate([input_A, hidden2])\n",
    "output = keras.layers.Dense(1, name=\"main_output\")(concat)\n",
    "aux_output = keras.layers.Dense(1, name=\"aux_output\")(hidden2)\n",
    "model = keras.models.Model(inputs=[input_A, input_B],\n",
    "                           outputs=[output, aux_output])"
   ]
  },
  {
   "cell_type": "code",
   "execution_count": 21,
   "metadata": {},
   "outputs": [],
   "source": [
    "model.compile(loss=[\"mse\", \"mse\"], loss_weights=[0.9, 0.1], optimizer=keras.optimizers.SGD(lr=0.001))"
   ]
  },
  {
   "cell_type": "code",
   "execution_count": 22,
   "metadata": {
    "scrolled": true
   },
   "outputs": [
    {
     "name": "stdout",
     "output_type": "stream",
     "text": [
      "Train on 11610 samples, validate on 3870 samples\n",
      "Epoch 1/20\n",
      "11610/11610 [==============================] - 2s 136us/sample - loss: 1.8073 - main_output_loss: 1.6018 - aux_output_loss: 3.6518 - val_loss: 1.1499 - val_main_output_loss: 0.9454 - val_aux_output_loss: 2.9893\n",
      "Epoch 2/20\n",
      "11610/11610 [==============================] - 1s 96us/sample - loss: 0.8908 - main_output_loss: 0.7165 - aux_output_loss: 2.4611 - val_loss: 0.8345 - val_main_output_loss: 0.6833 - val_aux_output_loss: 2.1948\n",
      "Epoch 3/20\n",
      "11610/11610 [==============================] - 1s 95us/sample - loss: 0.7614 - main_output_loss: 0.6382 - aux_output_loss: 1.8685 - val_loss: 0.7401 - val_main_output_loss: 0.6205 - val_aux_output_loss: 1.8166\n",
      "Epoch 4/20\n",
      "11610/11610 [==============================] - 1s 96us/sample - loss: 0.7015 - main_output_loss: 0.6020 - aux_output_loss: 1.5964 - val_loss: 0.6937 - val_main_output_loss: 0.5903 - val_aux_output_loss: 1.6239\n",
      "Epoch 5/20\n",
      "11610/11610 [==============================] - 1s 96us/sample - loss: 0.6695 - main_output_loss: 0.5816 - aux_output_loss: 1.4594 - val_loss: 0.6646 - val_main_output_loss: 0.5726 - val_aux_output_loss: 1.4935\n",
      "Epoch 6/20\n",
      "11610/11610 [==============================] - 1s 98us/sample - loss: 0.6428 - main_output_loss: 0.5617 - aux_output_loss: 1.3726 - val_loss: 0.6396 - val_main_output_loss: 0.5538 - val_aux_output_loss: 1.4125\n",
      "Epoch 7/20\n",
      "11610/11610 [==============================] - 1s 96us/sample - loss: 0.6240 - main_output_loss: 0.5477 - aux_output_loss: 1.3103 - val_loss: 0.6194 - val_main_output_loss: 0.5394 - val_aux_output_loss: 1.3397\n",
      "Epoch 8/20\n",
      "11610/11610 [==============================] - 1s 97us/sample - loss: 0.6061 - main_output_loss: 0.5329 - aux_output_loss: 1.2624 - val_loss: 0.6040 - val_main_output_loss: 0.5288 - val_aux_output_loss: 1.2809\n",
      "Epoch 9/20\n",
      "11610/11610 [==============================] - 1s 99us/sample - loss: 0.5916 - main_output_loss: 0.5214 - aux_output_loss: 1.2216 - val_loss: 0.5927 - val_main_output_loss: 0.5217 - val_aux_output_loss: 1.2317\n",
      "Epoch 10/20\n",
      "11610/11610 [==============================] - 1s 102us/sample - loss: 0.5789 - main_output_loss: 0.5116 - aux_output_loss: 1.1847 - val_loss: 0.5788 - val_main_output_loss: 0.5112 - val_aux_output_loss: 1.1883\n",
      "Epoch 11/20\n",
      "11610/11610 [==============================] - 1s 97us/sample - loss: 0.5669 - main_output_loss: 0.5019 - aux_output_loss: 1.1526 - val_loss: 0.5680 - val_main_output_loss: 0.5034 - val_aux_output_loss: 1.1505\n",
      "Epoch 12/20\n",
      "11610/11610 [==============================] - 1s 103us/sample - loss: 0.5585 - main_output_loss: 0.4957 - aux_output_loss: 1.1229 - val_loss: 0.5592 - val_main_output_loss: 0.4974 - val_aux_output_loss: 1.1163\n",
      "Epoch 13/20\n",
      "11610/11610 [==============================] - 1s 98us/sample - loss: 0.5490 - main_output_loss: 0.4883 - aux_output_loss: 1.0964 - val_loss: 0.5518 - val_main_output_loss: 0.4926 - val_aux_output_loss: 1.0853\n",
      "Epoch 14/20\n",
      "11610/11610 [==============================] - 1s 99us/sample - loss: 0.5420 - main_output_loss: 0.4832 - aux_output_loss: 1.0698 - val_loss: 0.5452 - val_main_output_loss: 0.4880 - val_aux_output_loss: 1.0600\n",
      "Epoch 15/20\n",
      "11610/11610 [==============================] - 1s 97us/sample - loss: 0.5356 - main_output_loss: 0.4788 - aux_output_loss: 1.0461 - val_loss: 0.5382 - val_main_output_loss: 0.4830 - val_aux_output_loss: 1.0359\n",
      "Epoch 16/20\n",
      "11610/11610 [==============================] - 1s 98us/sample - loss: 0.5291 - main_output_loss: 0.4740 - aux_output_loss: 1.0241 - val_loss: 0.5339 - val_main_output_loss: 0.4806 - val_aux_output_loss: 1.0143\n",
      "Epoch 17/20\n",
      "11610/11610 [==============================] - 1s 96us/sample - loss: 0.5240 - main_output_loss: 0.4706 - aux_output_loss: 1.0036 - val_loss: 0.5272 - val_main_output_loss: 0.4754 - val_aux_output_loss: 0.9934\n",
      "Epoch 18/20\n",
      "11610/11610 [==============================] - 1s 96us/sample - loss: 0.5189 - main_output_loss: 0.4670 - aux_output_loss: 0.9848 - val_loss: 0.5228 - val_main_output_loss: 0.4726 - val_aux_output_loss: 0.9753\n",
      "Epoch 19/20\n",
      "11610/11610 [==============================] - 1s 97us/sample - loss: 0.5134 - main_output_loss: 0.4630 - aux_output_loss: 0.9661 - val_loss: 0.5178 - val_main_output_loss: 0.4689 - val_aux_output_loss: 0.9588\n",
      "Epoch 20/20\n",
      "11610/11610 [==============================] - 1s 96us/sample - loss: 0.5092 - main_output_loss: 0.4601 - aux_output_loss: 0.9500 - val_loss: 0.5129 - val_main_output_loss: 0.4652 - val_aux_output_loss: 0.9429\n"
     ]
    }
   ],
   "source": [
    "history = model.fit([X_train_A, X_train_B], [y_train, y_train], epochs=20,\n",
    "                    validation_data=([X_valid_A, X_valid_B], [y_valid, y_valid]))"
   ]
  },
  {
   "cell_type": "code",
   "execution_count": 23,
   "metadata": {},
   "outputs": [
    {
     "name": "stdout",
     "output_type": "stream",
     "text": [
      "5160/5160 [==============================] - 0s 53us/sample - loss: 0.4900 - main_output_loss: 0.4431 - aux_output_loss: 0.9270\n"
     ]
    }
   ],
   "source": [
    "#main labels and the auxillatry output need to predict the same thing\n",
    "total_loss, main_loss, aux_loss = model.evaluate(\n",
    "    [X_test_A, X_test_B], [y_test, y_test])\n",
    "y_pred_main, y_pred_aux = model.predict([X_new_A, X_new_B])"
   ]
  },
  {
   "cell_type": "code",
   "execution_count": 25,
   "metadata": {},
   "outputs": [
    {
     "name": "stdout",
     "output_type": "stream",
     "text": [
      "Total loss:  0.4900002552557361\n",
      "Main loss:  0.44314834\n",
      "Aux loss:  0.9269979\n"
     ]
    }
   ],
   "source": [
    "print ('Total loss: ' ,total_loss)\n",
    "print ('Main loss: ', main_loss)\n",
    "print ('Aux loss: ', aux_loss)"
   ]
  },
  {
   "cell_type": "code",
   "execution_count": 26,
   "metadata": {},
   "outputs": [
    {
     "data": {
      "text/plain": [
       "array([[2.9546523],\n",
       "       [1.8934373],\n",
       "       [2.414296 ]], dtype=float32)"
      ]
     },
     "execution_count": 26,
     "metadata": {},
     "output_type": "execute_result"
    }
   ],
   "source": [
    "y_pred_main"
   ]
  }
 ],
 "metadata": {
  "kernelspec": {
   "display_name": "Python 3",
   "language": "python",
   "name": "python3"
  },
  "language_info": {
   "codemirror_mode": {
    "name": "ipython",
    "version": 3
   },
   "file_extension": ".py",
   "mimetype": "text/x-python",
   "name": "python",
   "nbconvert_exporter": "python",
   "pygments_lexer": "ipython3",
   "version": "3.7.3"
  }
 },
 "nbformat": 4,
 "nbformat_minor": 4
}
